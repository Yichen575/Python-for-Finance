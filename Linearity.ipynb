{
 "cells": [
  {
   "cell_type": "markdown",
   "metadata": {},
   "source": [
    "# Linearity in Finance\n",
    "\n",
    "> To-do list:\n",
    "* Examining the CAPM model with the efficient frontier and capital market line\n",
    "* Solving for the security market line using regression\n",
    "* Examining the APT model and performing a multivariate linear regression\n",
    "* Understanding linear optimization in portfolio allocation\n",
    "* Linear optimization using the PuLP package\n",
    "* Understanding the outcomes of linear programming\n",
    "* Introduction to integer programming\n",
    "* Implementing a linear integer programming model with binary conditions\n",
    "* Solving systems of linear equations with equalities using matrix linear algebra\n",
    "* Solving systems of linear equations directly with the LU, Cholesky, and QR decomposition\n",
    "* Solving systems of linear equations indirectly with the Jacobi and Gauss-Seidel method"
   ]
  },
  {
   "cell_type": "markdown",
   "metadata": {},
   "source": [
    "## CAPM model\n",
    "\n",
    "$$ R_i = R_f+\\beta_i(R_{mkt} - R_f) $$\n",
    "\n",
    "The `scipy.stats.linregress` function returns the slope of the regression line, the intercept of the regression line, the correlation coefficient, the p-value for a hypothesis test with null hypothesis of a zero slope, and the standard error of the estimate"
   ]
  },
  {
   "cell_type": "markdown",
   "metadata": {},
   "source": [
    "| Time period | Stock returns | Market returns |\n",
    "| ----------- | ----------- | ----------- |\n",
    "| 1 | 0.065 | 0.055 |\n",
    "|2 |0.0265|-0.09\n",
    "|3|-0.0593|-0.041\n",
    "|4|-0.001|0.045\n",
    "|5|0.0346|0.022\n",
    "\n",
    "\n",
    "\n",
    "\n"
   ]
  },
  {
   "cell_type": "code",
   "execution_count": 3,
   "metadata": {},
   "outputs": [
    {
     "name": "stdout",
     "output_type": "stream",
     "text": [
      "0.5077431878770808 -0.008481900352462384\n"
     ]
    }
   ],
   "source": [
    "\"\"\" Linear regression with SciPy \"\"\"\n",
    "from scipy import stats\n",
    "stock_returns = [0.065, 0.0265, -0.0593, -0.001, 0.0346]\n",
    "mkt_returns = [0.055, -0.09, -0.041, 0.045, 0.022]\n",
    "beta, alpha, r_value, p_value, std_err = stats.linregress(stock_returns, mkt_returns)\n",
    "\n",
    "print(beta, alpha)"
   ]
  },
  {
   "cell_type": "markdown",
   "metadata": {},
   "source": [
    "* The equation describing the SML can be written as:\n",
    "$$ E(R_i)=R_f +β_i [E(R_M)−R_f] $$"
   ]
  },
  {
   "cell_type": "markdown",
   "metadata": {},
   "source": [
    "## The Arbitrage Pricing Theory (APT) model\n",
    "\n",
    "$$ E[R_i]=α_i+β_{i,1}F_1+β_{i,2}F_2+...+β_{i,j}F_j $$"
   ]
  },
  {
   "cell_type": "code",
   "execution_count": 4,
   "metadata": {},
   "outputs": [],
   "source": [
    "\"\"\" Least squares regression with statsmodels \"\"\"\n",
    "import numpy as np\n",
    "import statsmodels.api as sm\n",
    "# Generate some sample data\n",
    "num_periods = 9\n",
    "all_values = np.array([np.random.random(8)\n",
    "                        for i in range(num_periods)])\n",
    "# Filter the data\n",
    "y_values = all_values[:, 0]  # First column values as Y\n",
    "x_values = all_values[:, 1:]  # All other values as X\n",
    "x_values = sm.add_constant(x_values)  # Include the intercept\n",
    "results = sm.OLS(y_values, x_values).fit()  # Regress and fit the model"
   ]
  },
  {
   "cell_type": "code",
   "execution_count": 5,
   "metadata": {},
   "outputs": [
    {
     "name": "stderr",
     "output_type": "stream",
     "text": [
      "/Users/shenyichen/opt/anaconda3/lib/python3.9/site-packages/scipy/stats/stats.py:1541: UserWarning: kurtosistest only valid for n>=20 ... continuing anyway, n=9\n",
      "  warnings.warn(\"kurtosistest only valid for n>=20 ... continuing \"\n"
     ]
    },
    {
     "data": {
      "text/html": [
       "<table class=\"simpletable\">\n",
       "<caption>OLS Regression Results</caption>\n",
       "<tr>\n",
       "  <th>Dep. Variable:</th>            <td>y</td>        <th>  R-squared:         </th> <td>   0.535</td>\n",
       "</tr>\n",
       "<tr>\n",
       "  <th>Model:</th>                   <td>OLS</td>       <th>  Adj. R-squared:    </th> <td>  -2.724</td>\n",
       "</tr>\n",
       "<tr>\n",
       "  <th>Method:</th>             <td>Least Squares</td>  <th>  F-statistic:       </th> <td>  0.1640</td>\n",
       "</tr>\n",
       "<tr>\n",
       "  <th>Date:</th>             <td>Tue, 06 Jun 2023</td> <th>  Prob (F-statistic):</th>  <td> 0.957</td> \n",
       "</tr>\n",
       "<tr>\n",
       "  <th>Time:</th>                 <td>15:56:03</td>     <th>  Log-Likelihood:    </th> <td>  6.7045</td>\n",
       "</tr>\n",
       "<tr>\n",
       "  <th>No. Observations:</th>      <td>     9</td>      <th>  AIC:               </th> <td>   2.591</td>\n",
       "</tr>\n",
       "<tr>\n",
       "  <th>Df Residuals:</th>          <td>     1</td>      <th>  BIC:               </th> <td>   4.169</td>\n",
       "</tr>\n",
       "<tr>\n",
       "  <th>Df Model:</th>              <td>     7</td>      <th>                     </th>     <td> </td>   \n",
       "</tr>\n",
       "<tr>\n",
       "  <th>Covariance Type:</th>      <td>nonrobust</td>    <th>                     </th>     <td> </td>   \n",
       "</tr>\n",
       "</table>\n",
       "<table class=\"simpletable\">\n",
       "<tr>\n",
       "    <td></td>       <th>coef</th>     <th>std err</th>      <th>t</th>      <th>P>|t|</th>  <th>[0.025</th>    <th>0.975]</th>  \n",
       "</tr>\n",
       "<tr>\n",
       "  <th>const</th> <td>    0.7998</td> <td>    2.580</td> <td>    0.310</td> <td> 0.809</td> <td>  -31.977</td> <td>   33.576</td>\n",
       "</tr>\n",
       "<tr>\n",
       "  <th>x1</th>    <td>    0.0448</td> <td>    1.960</td> <td>    0.023</td> <td> 0.985</td> <td>  -24.856</td> <td>   24.946</td>\n",
       "</tr>\n",
       "<tr>\n",
       "  <th>x2</th>    <td>    0.0010</td> <td>    2.997</td> <td>    0.000</td> <td> 1.000</td> <td>  -38.075</td> <td>   38.077</td>\n",
       "</tr>\n",
       "<tr>\n",
       "  <th>x3</th>    <td>   -0.2927</td> <td>    0.602</td> <td>   -0.486</td> <td> 0.712</td> <td>   -7.944</td> <td>    7.359</td>\n",
       "</tr>\n",
       "<tr>\n",
       "  <th>x4</th>    <td>    0.1684</td> <td>    3.126</td> <td>    0.054</td> <td> 0.966</td> <td>  -39.547</td> <td>   39.884</td>\n",
       "</tr>\n",
       "<tr>\n",
       "  <th>x5</th>    <td>    0.0351</td> <td>    0.849</td> <td>    0.041</td> <td> 0.974</td> <td>  -10.746</td> <td>   10.817</td>\n",
       "</tr>\n",
       "<tr>\n",
       "  <th>x6</th>    <td>    0.1171</td> <td>    0.483</td> <td>    0.242</td> <td> 0.849</td> <td>   -6.024</td> <td>    6.258</td>\n",
       "</tr>\n",
       "<tr>\n",
       "  <th>x7</th>    <td>   -0.4595</td> <td>    2.339</td> <td>   -0.196</td> <td> 0.877</td> <td>  -30.183</td> <td>   29.264</td>\n",
       "</tr>\n",
       "</table>\n",
       "<table class=\"simpletable\">\n",
       "<tr>\n",
       "  <th>Omnibus:</th>       <td> 1.910</td> <th>  Durbin-Watson:     </th> <td>   1.906</td>\n",
       "</tr>\n",
       "<tr>\n",
       "  <th>Prob(Omnibus):</th> <td> 0.385</td> <th>  Jarque-Bera (JB):  </th> <td>   0.863</td>\n",
       "</tr>\n",
       "<tr>\n",
       "  <th>Skew:</th>          <td> 0.740</td> <th>  Prob(JB):          </th> <td>   0.649</td>\n",
       "</tr>\n",
       "<tr>\n",
       "  <th>Kurtosis:</th>      <td> 2.669</td> <th>  Cond. No.          </th> <td>    91.1</td>\n",
       "</tr>\n",
       "</table><br/><br/>Notes:<br/>[1] Standard Errors assume that the covariance matrix of the errors is correctly specified."
      ],
      "text/plain": [
       "<class 'statsmodels.iolib.summary.Summary'>\n",
       "\"\"\"\n",
       "                            OLS Regression Results                            \n",
       "==============================================================================\n",
       "Dep. Variable:                      y   R-squared:                       0.535\n",
       "Model:                            OLS   Adj. R-squared:                 -2.724\n",
       "Method:                 Least Squares   F-statistic:                    0.1640\n",
       "Date:                Tue, 06 Jun 2023   Prob (F-statistic):              0.957\n",
       "Time:                        15:56:03   Log-Likelihood:                 6.7045\n",
       "No. Observations:                   9   AIC:                             2.591\n",
       "Df Residuals:                       1   BIC:                             4.169\n",
       "Df Model:                           7                                         \n",
       "Covariance Type:            nonrobust                                         \n",
       "==============================================================================\n",
       "                 coef    std err          t      P>|t|      [0.025      0.975]\n",
       "------------------------------------------------------------------------------\n",
       "const          0.7998      2.580      0.310      0.809     -31.977      33.576\n",
       "x1             0.0448      1.960      0.023      0.985     -24.856      24.946\n",
       "x2             0.0010      2.997      0.000      1.000     -38.075      38.077\n",
       "x3            -0.2927      0.602     -0.486      0.712      -7.944       7.359\n",
       "x4             0.1684      3.126      0.054      0.966     -39.547      39.884\n",
       "x5             0.0351      0.849      0.041      0.974     -10.746      10.817\n",
       "x6             0.1171      0.483      0.242      0.849      -6.024       6.258\n",
       "x7            -0.4595      2.339     -0.196      0.877     -30.183      29.264\n",
       "==============================================================================\n",
       "Omnibus:                        1.910   Durbin-Watson:                   1.906\n",
       "Prob(Omnibus):                  0.385   Jarque-Bera (JB):                0.863\n",
       "Skew:                           0.740   Prob(JB):                        0.649\n",
       "Kurtosis:                       2.669   Cond. No.                         91.1\n",
       "==============================================================================\n",
       "\n",
       "Notes:\n",
       "[1] Standard Errors assume that the covariance matrix of the errors is correctly specified.\n",
       "\"\"\""
      ]
     },
     "execution_count": 5,
     "metadata": {},
     "output_type": "execute_result"
    }
   ],
   "source": [
    "results.summary()\n"
   ]
  }
 ],
 "metadata": {
  "kernelspec": {
   "display_name": "Python 3.9.12 ('base')",
   "language": "python",
   "name": "python3"
  },
  "language_info": {
   "codemirror_mode": {
    "name": "ipython",
    "version": 3
   },
   "file_extension": ".py",
   "mimetype": "text/x-python",
   "name": "python",
   "nbconvert_exporter": "python",
   "pygments_lexer": "ipython3",
   "version": "3.9.12"
  },
  "orig_nbformat": 4,
  "vscode": {
   "interpreter": {
    "hash": "f695691c7675195da2229e392149ef068beb920cff0b2fc3ea04696403466e06"
   }
  }
 },
 "nbformat": 4,
 "nbformat_minor": 2
}
