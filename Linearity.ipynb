{
 "cells": [
  {
   "cell_type": "markdown",
   "metadata": {},
   "source": [
    "# Linearity in Finance\n",
    "\n",
    "> To-do list:\n",
    "* Examining the CAPM model with the efficient frontier and capital market line\n",
    "* Solving for the security market line using regression\n",
    "* Examining the APT model and performing a multivariate linear regression\n",
    "* Understanding linear optimization in portfolio allocation\n",
    "* Linear optimization using the PuLP package\n",
    "* Understanding the outcomes of linear programming\n",
    "* Introduction to integer programming\n",
    "* Implementing a linear integer programming model with binary conditions\n",
    "* Solving systems of linear equations with equalities using matrix linear algebra\n",
    "* Solving systems of linear equations directly with the LU, Cholesky, and QR decomposition\n",
    "* Solving systems of linear equations indirectly with the Jacobi and Gauss-Seidel method"
   ]
  },
  {
   "cell_type": "markdown",
   "metadata": {},
   "source": [
    "## CAPM model"
   ]
  },
  {
   "cell_type": "code",
   "execution_count": null,
   "metadata": {},
   "outputs": [],
   "source": [
    "\"\"\" Linear regression with SciPy \"\"\"\n",
    "from scipy import stats\n",
    "stock_returns = [0.065, 0.0265, -0.0593, -0.001, 0.0346]"
   ]
  }
 ],
 "metadata": {
  "kernelspec": {
   "display_name": "Python 3.9.12 ('base')",
   "language": "python",
   "name": "python3"
  },
  "language_info": {
   "name": "python",
   "version": "3.9.12"
  },
  "orig_nbformat": 4,
  "vscode": {
   "interpreter": {
    "hash": "f695691c7675195da2229e392149ef068beb920cff0b2fc3ea04696403466e06"
   }
  }
 },
 "nbformat": 4,
 "nbformat_minor": 2
}
