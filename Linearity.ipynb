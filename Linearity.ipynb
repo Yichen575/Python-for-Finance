{
 "cells": [
  {
   "cell_type": "markdown",
   "metadata": {},
   "source": [
    "# Linearity in Finance\n",
    "\n",
    "> To-do list:\n",
    "* Examining the CAPM model with the efficient frontier and capital market line\n",
    "* Solving for the security market line using regression\n",
    "* Examining the APT model and performing a multivariate linear regression\n",
    "* Understanding linear optimization in portfolio allocation\n",
    "* Linear optimization using the PuLP package\n",
    "* Understanding the outcomes of linear programming\n",
    "* Introduction to integer programming\n",
    "* Implementing a linear integer programming model with binary conditions\n",
    "* Solving systems of linear equations with equalities using matrix linear algebra\n",
    "* Solving systems of linear equations directly with the LU, Cholesky, and QR decomposition\n",
    "* Solving systems of linear equations indirectly with the Jacobi and Gauss-Seidel method"
   ]
  },
  {
   "cell_type": "markdown",
   "metadata": {},
   "source": [
    "## CAPM model\n",
    "\n",
    "$$ R_i = R_f+\\beta_i(R_{mkt} - R_f) $$\n",
    "\n",
    "The `scipy.stats.linregress` function returns the slope of the regression line, the intercept of the regression line, the correlation coefficient, the p-value for a hypothesis test with null hypothesis of a zero slope, and the standard error of the estimate"
   ]
  },
  {
   "cell_type": "markdown",
   "metadata": {},
   "source": [
    "| Time period | Stock returns | Market returns |\n",
    "| ----------- | ----------- | ----------- |\n",
    "| 1 | 0.065 | 0.055 |\n",
    "|2 |0.0265|-0.09\n",
    "|3|-0.0593|-0.041\n",
    "|4|-0.001|0.045\n",
    "|5|0.0346|0.022\n",
    "\n",
    "\n",
    "\n",
    "\n"
   ]
  },
  {
   "cell_type": "code",
   "execution_count": 3,
   "metadata": {},
   "outputs": [
    {
     "name": "stdout",
     "output_type": "stream",
     "text": [
      "0.5077431878770808 -0.008481900352462384\n"
     ]
    }
   ],
   "source": [
    "\"\"\" Linear regression with SciPy \"\"\"\n",
    "from scipy import stats\n",
    "stock_returns = [0.065, 0.0265, -0.0593, -0.001, 0.0346]\n",
    "mkt_returns = [0.055, -0.09, -0.041, 0.045, 0.022]\n",
    "beta, alpha, r_value, p_value, std_err = stats.linregress(stock_returns, mkt_returns)\n",
    "\n",
    "print(beta, alpha)"
   ]
  },
  {
   "cell_type": "markdown",
   "metadata": {},
   "source": [
    "* The equation describing the SML can be written as:\n",
    "$$ E(R_i)=R_f +β_i [E(R_M)−R_f] $$"
   ]
  },
  {
   "cell_type": "markdown",
   "metadata": {},
   "source": [
    "## The Arbitrage Pricing Theory (APT) model\n",
    "\n",
    "$$ E[R_i]=α_i+β_{i,1}F_1+β_{i,2}F_2+...+β_{i,j}F_j $$"
   ]
  },
  {
   "cell_type": "code",
   "execution_count": 16,
   "metadata": {},
   "outputs": [],
   "source": [
    "\"\"\" Least squares regression with statsmodels \"\"\"\n",
    "import numpy as np\n",
    "import statsmodels.api as sm\n",
    "# Generate some sample data\n",
    "num_periods = 9\n",
    "# create a 9*8 array\n",
    "# Each row represents a period, and each column represents a variable\n",
    "all_values = np.array([np.random.random(8)\n",
    "                        for i in range(num_periods)])\n",
    "# Filter the data\n",
    "y_values = all_values[:, 0]  # First column values as dependent variable (Y).\n",
    "x_values = all_values[:, 1:]  # All other values as the independent variables (X).\n",
    "x_values = sm.add_constant(x_values)  # Include the intercept\n",
    "results = sm.OLS(y_values, x_values).fit()  # Regress and fit the model"
   ]
  },
  {
   "cell_type": "code",
   "execution_count": 18,
   "metadata": {},
   "outputs": [
    {
     "name": "stderr",
     "output_type": "stream",
     "text": [
      "/Users/shenyichen/opt/anaconda3/lib/python3.9/site-packages/scipy/stats/stats.py:1541: UserWarning: kurtosistest only valid for n>=20 ... continuing anyway, n=9\n",
      "  warnings.warn(\"kurtosistest only valid for n>=20 ... continuing \"\n"
     ]
    },
    {
     "data": {
      "text/plain": [
       "array([ 1.66165947,  0.08730198, -0.43483682, -0.49216373,  0.76991895,\n",
       "       -0.63727415, -0.9484386 , -0.31855383])"
      ]
     },
     "execution_count": 18,
     "metadata": {},
     "output_type": "execute_result"
    }
   ],
   "source": [
    "results.summary()\n",
    "results.params\n"
   ]
  },
  {
   "cell_type": "markdown",
   "metadata": {},
   "source": [
    "## Linear optimization with PuLP\n",
    "\n",
    "> A simple example:\n",
    "\n",
    "Objective function:\n",
    "\n",
    " $$ Maximize { f(x,y)=3x+2y }$$\n",
    "\n",
    " Subject to: $$ 2 x + y ≤ 100 $$\n",
    " $$x + y ≤ 80 $$\n",
    " $$x ≤ 40$$\n",
    "$$x ≥ 0, y ≥ 0 $$"
   ]
  },
  {
   "cell_type": "code",
   "execution_count": 23,
   "metadata": {},
   "outputs": [
    {
     "name": "stderr",
     "output_type": "stream",
     "text": [
      "/Users/shenyichen/opt/anaconda3/lib/python3.9/site-packages/pulp/pulp.py:1352: UserWarning: Spaces are not permitted in the name. Converted to '_'\n",
      "  warnings.warn(\"Spaces are not permitted in the name. Converted to '_'\")\n"
     ]
    },
    {
     "name": "stdout",
     "output_type": "stream",
     "text": [
      "Welcome to the CBC MILP Solver \n",
      "Version: 2.10.3 \n",
      "Build Date: Dec 15 2019 \n",
      "\n",
      "command line - /Users/shenyichen/opt/anaconda3/lib/python3.9/site-packages/pulp/solverdir/cbc/osx/64/cbc /var/folders/30/5npdvf4d7mb7d1df8ndd9dmm0000gn/T/415370241a0c4611a7af67119da3e906-pulp.mps max timeMode elapsed branch printingOptions all solution /var/folders/30/5npdvf4d7mb7d1df8ndd9dmm0000gn/T/415370241a0c4611a7af67119da3e906-pulp.sol (default strategy 1)\n",
      "At line 2 NAME          MODEL\n",
      "At line 3 ROWS\n",
      "At line 8 COLUMNS\n",
      "At line 16 RHS\n",
      "At line 20 BOUNDS\n",
      "At line 21 ENDATA\n",
      "Problem MODEL has 3 rows, 2 columns and 5 elements\n",
      "Coin0008I MODEL read with 0 errors\n",
      "Option for timeMode changed from cpu to elapsed\n",
      "Presolve 2 (-1) rows, 2 (0) columns and 4 (-1) elements\n",
      "0  Obj -0 Dual inf 4.999998 (2)\n",
      "2  Obj 180\n",
      "Optimal - objective value 180\n",
      "After Postsolve, objective 180, infeasibilities - dual 0 (0), primal 0 (0)\n",
      "Optimal objective 180 - 2 iterations time 0.002, Presolve 0.00\n",
      "Option for printingOptions changed from normal to all\n",
      "Total time (CPU seconds):       0.00   (Wallclock seconds):       0.02\n",
      "\n"
     ]
    },
    {
     "data": {
      "text/plain": [
       "1"
      ]
     },
     "execution_count": 23,
     "metadata": {},
     "output_type": "execute_result"
    }
   ],
   "source": [
    "\"\"\" A simple linear optimization problem with 2 variables \"\"\"\n",
    "import pulp\n",
    "x = pulp.LpVariable(\"x\", lowBound=0)\n",
    "y = pulp.LpVariable(\"y\", lowBound=0)\n",
    "problem = pulp.LpProblem(\"A simple maximization objective\",\n",
    "                         pulp.LpMaximize)\n",
    "problem += 3*x + 2*y, \"The objective function\"\n",
    "problem += 2*x + y <= 100, \"1st constraint\"\n",
    "problem += x + y <= 80, \"2nd constraint\"\n",
    "problem += x <= 40, \"3rd constraint\"\n",
    "problem.solve()"
   ]
  },
  {
   "cell_type": "code",
   "execution_count": 26,
   "metadata": {},
   "outputs": [
    {
     "name": "stdout",
     "output_type": "stream",
     "text": [
      "x = 20.0\n",
      "y = 60.0\n"
     ]
    }
   ],
   "source": [
    "for variable in problem.variables():\n",
    "    print (variable.name, \"=\", variable.varValue)"
   ]
  },
  {
   "cell_type": "markdown",
   "metadata": {},
   "source": [
    "## Integer programming model with binary conditions\n",
    "\n",
    "Suppose we must go for 150 contracts in a particular over-the-counter exotic security from three dealers. Dealer X quoted $500 per contract plus handling\n",
    "fees of $4,000, regardless of the number of contracts sold. Dealer Y charges $450 per contract plus a transaction fee of $2,000. Dealer Z charges $450 per contract plus a fee of $6,000. Dealer X will sell at most 100 contracts, dealer Y at most 90, and dealer Z at most 70. The minimum transaction volume from any dealer is 30 contracts if any are transacted with that dealer. How should we minimize the cost of purchasing 150 contracts?\n",
    "\n",
    "\n",
    "\n",
    "$$Minimize \\sum_{i=x}^{i=z} IsOrder_i [variable\\ cost_i × quantity_i + fixed\\ cost_i ]$$\n"
   ]
  },
  {
   "cell_type": "code",
   "execution_count": 33,
   "metadata": {},
   "outputs": [],
   "source": [
    "import pulp\n",
    "dealers = [\"X\", \"Y\", \"Z\"]\n",
    "variable_costs = {\"X\": 500,\n",
    "                    \"Y\": 350,\n",
    "                    \"Z\": 450}\n",
    "fixed_costs = {\"X\": 4000,\n",
    "                \"Y\": 2000,\n",
    "                \"Z\": 6000}\n",
    "# Define PuLP variables to solve\n",
    "quantities = pulp.LpVariable.dicts(\"quantity\",\n",
    "                                    dealers,\n",
    "                                    lowBound=0,\n",
    "                                    cat=pulp.LpInteger)\n",
    "is_orders = pulp.LpVariable.dicts(\"orders\",\n",
    "                                    dealers,\n",
    "                                    cat=pulp.LpBinary)"
   ]
  },
  {
   "cell_type": "code",
   "execution_count": 35,
   "metadata": {},
   "outputs": [
    {
     "name": "stdout",
     "output_type": "stream",
     "text": [
      "Welcome to the CBC MILP Solver \n",
      "Version: 2.10.3 \n",
      "Build Date: Dec 15 2019 \n",
      "\n",
      "command line - /Users/shenyichen/opt/anaconda3/lib/python3.9/site-packages/pulp/solverdir/cbc/osx/64/cbc /var/folders/30/5npdvf4d7mb7d1df8ndd9dmm0000gn/T/3e88d3e8f09f40fcba786944caec07b0-pulp.mps timeMode elapsed branch printingOptions all solution /var/folders/30/5npdvf4d7mb7d1df8ndd9dmm0000gn/T/3e88d3e8f09f40fcba786944caec07b0-pulp.sol (default strategy 1)\n",
      "At line 2 NAME          MODEL\n",
      "At line 3 ROWS\n",
      "At line 9 COLUMNS\n",
      "At line 37 RHS\n",
      "At line 42 BOUNDS\n",
      "At line 49 ENDATA\n",
      "Problem MODEL has 4 rows, 6 columns and 9 elements\n",
      "Coin0008I MODEL read with 0 errors\n",
      "Option for timeMode changed from cpu to elapsed\n",
      "Continuous objective value is 65642.9 - 0.00 seconds\n",
      "Cgl0004I processed model has 4 rows, 6 columns (6 integer (3 of which binary)) and 9 elements\n",
      "Cutoff increment increased from 1e-05 to 49.9999\n",
      "Cbc0038I Initial state - 1 integers unsatisfied sum - 0.142857\n",
      "Cbc0038I Solution found of 66500\n",
      "Cbc0038I Cleaned solution of 66500\n",
      "Cbc0038I Before mini branch and bound, 5 integers at bound fixed and 0 continuous of which 1 were internal integer and 0 internal continuous\n",
      "Cbc0038I Full problem 4 rows 6 columns, reduced to 0 rows 0 columns\n",
      "Cbc0038I Mini branch and bound did not improve solution (0.01 seconds)\n",
      "Cbc0038I Round again with cutoff of 66369.3\n",
      "Cbc0038I Reduced cost fixing fixed 1 variables on major pass 2\n",
      "Cbc0038I Pass   1: suminf.    0.02179 (1) obj. 66369.3 iterations 1\n",
      "Cbc0038I Pass   2: suminf.    0.40000 (1) obj. 65900 iterations 2\n",
      "Cbc0038I Pass   3: suminf.    0.28268 (1) obj. 66369.3 iterations 1\n",
      "Cbc0038I Pass   4: suminf.    0.28268 (1) obj. 66369.3 iterations 0\n",
      "Cbc0038I Pass   5: suminf.    0.32446 (2) obj. 66369.3 iterations 1\n",
      "Cbc0038I Pass   6: suminf.    0.02179 (1) obj. 66369.3 iterations 1\n",
      "Cbc0038I Pass   7: suminf.    0.02179 (1) obj. 66369.3 iterations 0\n",
      "Cbc0038I Pass   8: suminf.    0.32446 (2) obj. 66369.3 iterations 1\n",
      "Cbc0038I Pass   9: suminf.    0.02179 (1) obj. 66369.3 iterations 1\n",
      "Cbc0038I Pass  10: suminf.    0.02179 (1) obj. 66369.3 iterations 0\n",
      "Cbc0038I Pass  11: suminf.    0.02179 (1) obj. 66369.3 iterations 0\n",
      "Cbc0038I Pass  12: suminf.    0.02179 (1) obj. 66369.3 iterations 0\n",
      "Cbc0038I Pass  13: suminf.    0.02179 (1) obj. 66369.3 iterations 0\n",
      "Cbc0038I Pass  14: suminf.    0.02179 (1) obj. 66369.3 iterations 0\n",
      "Cbc0038I Pass  15: suminf.    0.02179 (1) obj. 66369.3 iterations 0\n",
      "Cbc0038I Pass  16: suminf.    0.02179 (1) obj. 66369.3 iterations 0\n",
      "Cbc0038I Pass  17: suminf.    0.32446 (2) obj. 66369.3 iterations 1\n",
      "Cbc0038I Pass  18: suminf.    0.02179 (1) obj. 66369.3 iterations 1\n",
      "Cbc0038I Pass  19: suminf.    0.02179 (1) obj. 66369.3 iterations 0\n",
      "Cbc0038I Pass  20: suminf.    0.02179 (1) obj. 66369.3 iterations 0\n",
      "Cbc0038I Pass  21: suminf.    0.02179 (1) obj. 66369.3 iterations 0\n",
      "Cbc0038I Pass  22: suminf.    0.02179 (1) obj. 66369.3 iterations 0\n",
      "Cbc0038I Pass  23: suminf.    0.02179 (1) obj. 66369.3 iterations 0\n",
      "Cbc0038I Pass  24: suminf.    0.02179 (1) obj. 66369.3 iterations 0\n",
      "Cbc0038I Pass  25: suminf.    0.02179 (1) obj. 66369.3 iterations 0\n",
      "Cbc0038I Pass  26: suminf.    0.02179 (1) obj. 66369.3 iterations 0\n",
      "Cbc0038I Pass  27: suminf.    0.02179 (1) obj. 66369.3 iterations 0\n",
      "Cbc0038I Pass  28: suminf.    0.02179 (1) obj. 66369.3 iterations 0\n",
      "Cbc0038I Pass  29: suminf.    0.32446 (2) obj. 66369.3 iterations 1\n",
      "Cbc0038I Pass  30: suminf.    0.02179 (1) obj. 66369.3 iterations 1\n",
      "Cbc0038I No solution found this major pass\n",
      "Cbc0038I Before mini branch and bound, 2 integers at bound fixed and 0 continuous\n",
      "Cbc0038I Mini branch and bound did not improve solution (0.01 seconds)\n",
      "Cbc0038I After 0.01 seconds - Feasibility pump exiting with objective of 66500 - took 0.00 seconds\n",
      "Cbc0012I Integer solution of 66500 found by feasibility pump after 0 iterations and 0 nodes (0.01 seconds)\n",
      "Cbc0031I 3 added rows had average density of 2.6666667\n",
      "Cbc0013I At root node, 8 cuts changed objective from 65642.857 to 66600 in 1 passes\n",
      "Cbc0014I Cut generator 0 (Probing) - 6 row cuts average 2.3 elements, 0 column cuts (0 active)  in 0.000 seconds - new frequency is 1\n",
      "Cbc0014I Cut generator 1 (Gomory) - 1 row cuts average 4.0 elements, 0 column cuts (0 active)  in 0.000 seconds - new frequency is 1\n",
      "Cbc0014I Cut generator 2 (Knapsack) - 0 row cuts average 0.0 elements, 0 column cuts (0 active)  in 0.000 seconds - new frequency is -100\n",
      "Cbc0014I Cut generator 3 (Clique) - 0 row cuts average 0.0 elements, 0 column cuts (0 active)  in 0.000 seconds - new frequency is -100\n",
      "Cbc0014I Cut generator 4 (MixedIntegerRounding2) - 0 row cuts average 0.0 elements, 0 column cuts (0 active)  in 0.000 seconds - new frequency is -100\n",
      "Cbc0014I Cut generator 5 (FlowCover) - 0 row cuts average 0.0 elements, 0 column cuts (0 active)  in 0.000 seconds - new frequency is -100\n",
      "Cbc0014I Cut generator 6 (TwoMirCuts) - 1 row cuts average 2.0 elements, 0 column cuts (0 active)  in 0.000 seconds - new frequency is -100\n",
      "Cbc0001I Search completed - best objective 66500, took 0 iterations and 0 nodes (0.02 seconds)\n",
      "Cbc0035I Maximum depth 0, 1 variables fixed on reduced cost\n",
      "Cuts at root node changed objective from 65642.9 to 66600\n",
      "Probing was tried 1 times and created 6 cuts of which 0 were active after adding rounds of cuts (0.000 seconds)\n",
      "Gomory was tried 1 times and created 1 cuts of which 0 were active after adding rounds of cuts (0.000 seconds)\n",
      "Knapsack was tried 1 times and created 0 cuts of which 0 were active after adding rounds of cuts (0.000 seconds)\n",
      "Clique was tried 1 times and created 0 cuts of which 0 were active after adding rounds of cuts (0.000 seconds)\n",
      "MixedIntegerRounding2 was tried 1 times and created 0 cuts of which 0 were active after adding rounds of cuts (0.000 seconds)\n",
      "FlowCover was tried 1 times and created 0 cuts of which 0 were active after adding rounds of cuts (0.000 seconds)\n",
      "TwoMirCuts was tried 1 times and created 1 cuts of which 0 were active after adding rounds of cuts (0.000 seconds)\n",
      "ZeroHalf was tried 1 times and created 0 cuts of which 0 were active after adding rounds of cuts (0.000 seconds)\n",
      "\n",
      "Result - Optimal solution found\n",
      "\n",
      "Objective value:                66500.00000000\n",
      "Enumerated nodes:               0\n",
      "Total iterations:               0\n",
      "Time (CPU seconds):             0.00\n",
      "Time (Wallclock seconds):       0.02\n",
      "\n",
      "Option for printingOptions changed from normal to all\n",
      "Total time (CPU seconds):       0.00   (Wallclock seconds):       0.02\n",
      "\n"
     ]
    },
    {
     "data": {
      "text/plain": [
       "1"
      ]
     },
     "execution_count": 35,
     "metadata": {},
     "output_type": "execute_result"
    }
   ],
   "source": [
    "# Initialize the model with constraints\n",
    "model = pulp.LpProblem(\"A cost minimization problem\", pulp.LpMinimize)\n",
    "model += sum([variable_costs[i]*quantities[i] + fixed_costs[i]*is_orders[i] for i in dealers]), \\\n",
    "        \"Minimize portfolio cost\"\n",
    "model += sum([quantities[i] for i in dealers]) == 150, \\\n",
    "        \"Total contracts required\"\n",
    "model += is_orders[\"X\"]*30 <= quantities[\"X\"] <= is_orders[\"X\"]*100, \"Boundary of total volume of X\"\n",
    "model += is_orders[\"Y\"]*30 <= quantities[\"Y\"] <= is_orders[\"Y\"]*90, \"Boundary of total volume of Y\"\n",
    "model += is_orders[\"Z\"]*30 <= quantities[\"Z\"] <= is_orders[\"Z\"]*70, \"Boundary of total volume of Z\"\n",
    "model.solve()\n",
    "\n"
   ]
  },
  {
   "cell_type": "code",
   "execution_count": 37,
   "metadata": {},
   "outputs": [
    {
     "name": "stdout",
     "output_type": "stream",
     "text": [
      "orders_X = 0.0\n",
      "orders_Y = 1.0\n",
      "orders_Z = 1.0\n",
      "quantity_X = 0.0\n",
      "quantity_Y = 90.0\n",
      "quantity_Z = 60.0\n",
      "total cost: 66500.0\n"
     ]
    }
   ],
   "source": [
    "for variable in model.variables():\n",
    "    print (variable.name, \"=\", variable.varValue)\n",
    "\n",
    "print(\"total cost:\", pulp.value(model.objective))"
   ]
  },
  {
   "cell_type": "markdown",
   "metadata": {},
   "source": [
    "## Solving linear equations using matrices\n",
    "\n",
    "\n",
    "The linear equations can now be stated as follows:\n",
    "$$ Ax = B $$\n",
    "\n",
    "Solution: \n",
    "$$ x = A^{-1}B$$"
   ]
  },
  {
   "cell_type": "code",
   "execution_count": 39,
   "metadata": {},
   "outputs": [
    {
     "data": {
      "text/plain": [
       "array([  6.,  15., -23.])"
      ]
     },
     "execution_count": 39,
     "metadata": {},
     "output_type": "execute_result"
    }
   ],
   "source": [
    "import numpy as np\n",
    "# create two arrays\n",
    "A = np.array([[2, 1, 1],\n",
    "                [1, 3, 2],\n",
    "                [1, 0, 0]])\n",
    "B = np.array([4, 5, 6])\n",
    "\n",
    "np.linalg.solve(A, B )"
   ]
  },
  {
   "cell_type": "markdown",
   "metadata": {},
   "source": [
    "## The LU decomposition\n",
    "\n",
    "LU factorization decomposes matrix A into a product of two matrices: a lower triangular matrix L and an upper triangular matrix U. \n",
    "\n",
    "$$ A = L\\ U $$\n",
    "\n"
   ]
  },
  {
   "cell_type": "code",
   "execution_count": 41,
   "metadata": {},
   "outputs": [
    {
     "name": "stdout",
     "output_type": "stream",
     "text": [
      "[  6.  15. -23.]\n"
     ]
    }
   ],
   "source": [
    "\"\"\" LU decomposition with SciPy \"\"\"\n",
    "import scipy.linalg as linalg\n",
    "import numpy as np\n",
    "A = np.array([[2., 1., 1.],\n",
    "                [1., 3., 2.],\n",
    "                [1., 0., 0.]])\n",
    "B = np.array([4., 5., 6.])\n",
    "LU = linalg.lu_factor(A)\n",
    "x = linalg.lu_solve(LU, B)\n",
    "\n",
    "print(x)\n"
   ]
  }
 ],
 "metadata": {
  "kernelspec": {
   "display_name": "Python 3.9.12 ('base')",
   "language": "python",
   "name": "python3"
  },
  "language_info": {
   "codemirror_mode": {
    "name": "ipython",
    "version": 3
   },
   "file_extension": ".py",
   "mimetype": "text/x-python",
   "name": "python",
   "nbconvert_exporter": "python",
   "pygments_lexer": "ipython3",
   "version": "3.9.12"
  },
  "orig_nbformat": 4,
  "vscode": {
   "interpreter": {
    "hash": "f695691c7675195da2229e392149ef068beb920cff0b2fc3ea04696403466e06"
   }
  }
 },
 "nbformat": 4,
 "nbformat_minor": 2
}
