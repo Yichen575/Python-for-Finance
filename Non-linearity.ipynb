{
 "cells": [
  {
   "cell_type": "markdown",
   "metadata": {},
   "source": [
    "# Nonlinearity in Finance\n",
    "\n",
    "> To-do list:\n",
    "\n",
    "* Examining the definition of nonlinearity\n",
    "* Discussing the volatility smile in implied volatility modeling\n",
    "* Discussing Markov switching models, threshold models, and smooth transition models as nonlinear models\n",
    "* An overview of root-finding to find the optimal point of nonlinear models\n",
    "* Examining the incremental search algorithm, bisection algorithm, Newton's algorithm, and secant method in root-finding\n",
    "* Combining root-finding methods with Brent's method\n",
    "* SciPy's implementation of root-finding methods as scalar functions\n",
    "* SciPy's general nonlinear solvers in root-finding\n",
    "\n",
    "\n",
    "A nonlinear relationship is defined as follows:\n",
    "$$ f (a+b)≠ f (a)+ f (b) $$"
   ]
  }
 ],
 "metadata": {
  "kernelspec": {
   "display_name": "Python 3.9.6 64-bit",
   "language": "python",
   "name": "python3"
  },
  "language_info": {
   "name": "python",
   "version": "3.9.6"
  },
  "orig_nbformat": 4,
  "vscode": {
   "interpreter": {
    "hash": "31f2aee4e71d21fbe5cf8b01ff0e069b9275f58929596ceb00d14d90e3e16cd6"
   }
  }
 },
 "nbformat": 4,
 "nbformat_minor": 2
}
