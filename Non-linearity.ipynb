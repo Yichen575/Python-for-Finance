{
 "cells": [
  {
   "cell_type": "markdown",
   "metadata": {},
   "source": [
    "# Nonlinearity in Finance\n",
    "\n",
    "> To-do list:\n",
    "\n",
    "* Examining the definition of nonlinearity\n",
    "* Discussing the volatility smile in implied volatility modeling\n",
    "* Discussing Markov switching models, threshold models, and smooth transition models as nonlinear models\n",
    "* An overview of root-finding to find the optimal point of nonlinear models\n",
    "* Examining the incremental search algorithm, bisection algorithm, Newton's algorithm, and secant method in root-finding\n",
    "* Combining root-finding methods with Brent's method\n",
    "* SciPy's implementation of root-finding methods as scalar functions\n",
    "* SciPy's general nonlinear solvers in root-finding\n",
    "\n",
    "\n",
    "A nonlinear relationship is defined as follows:\n",
    "$$ f (a+b)≠ f (a)+ f (b) $$"
   ]
  },
  {
   "cell_type": "markdown",
   "metadata": {},
   "source": [
    "## The Markov regime-switching model\n",
    "\n",
    "$$ y_t = x_1+ε_t, when\\ s_t =1  $$\n",
    "$$ y_t = x_2+ε_t, when\\ s_t =2  $$\n",
    "\n",
    "thus,\n",
    "\n",
    "$$ y_t =x_1D_t +x_2(1−D_t)+ε_t $$\n",
    "\n",
    "where $D_t$ is a binary variable taking value 0 or 1"
   ]
  },
  {
   "cell_type": "markdown",
   "metadata": {},
   "source": [
    "## The threshold autoregressive model\n",
    "\n",
    "$$ y_t = a_1+b_1y_{t-d} +ε_t,if\\ y_{t-d} ≤c $$\n",
    "$$ y_t = a_2+b_2y_{t-d} +ε_t,if\\ y_{t-d} >c $$\n",
    "\n",
    "thus,\n",
    "\n",
    "$$ y_t = (a_1+b_1y_{t-d})D_t+ (a_2+b_2y_{t-d})(1−D_t) +ε_t $$\n",
    "where $D_t$ is either 1 or 0"
   ]
  },
  {
   "cell_type": "markdown",
   "metadata": {},
   "source": [
    "## Smooth transition models\n",
    "logistic function $ G(y_{t−1};γ,c)$:\n",
    "$$  G(y_{t−1};γ,c)=\\frac{1}{1+e^{-γ(y_{t−d}-c)}}  $$"
   ]
  },
  {
   "cell_type": "markdown",
   "metadata": {},
   "source": [
    "# Intro to root finding\n",
    "\n",
    "find where $ f(x)=0 $, it can be either maximum or minimum.\n",
    "\n",
    "\n",
    "## Incremental search\n",
    "\n",
    "We assume that the values of $ f (a + dx)$, $f (a + 2dx)$, $f (a + 3dx)$... are going in the same direction as indicated by their sign. Once the sign changes, a solution is deemed as found. "
   ]
  },
  {
   "cell_type": "code",
   "execution_count": 3,
   "metadata": {},
   "outputs": [],
   "source": [
    "import numpy as np\n",
    "def incremental_search(f, a, b, dx):\n",
    "    \"\"\"\n",
    "    :param f: The function to solve\n",
    "    :param a: The left boundary x-axis value\n",
    "    :param b: The right boundary x-axis value\n",
    "    :param dx: The incremental value in searching\n",
    "    :return: The x-axis value of the root,\n",
    "                number of iterations used\n",
    "    \"\"\"\n",
    "    fa = f(a) # left value\n",
    "    c = a + dx # point after increment\n",
    "    fc = f(c) \n",
    "    n= 1\n",
    "    while np.sign(fa) == np.sign(fc): # loop continues if the sings are the same\n",
    "        if a >= b:\n",
    "            return a - dx, n\n",
    "        a= c\n",
    "        fa = fc\n",
    "        c = a + dx \n",
    "        fc = f(c) \n",
    "        n += 1\n",
    "    if fa == 0:\n",
    "        return a, n\n",
    "    elif fc == 0:\n",
    "        return c, n\n",
    "    else:\n",
    "        return (a + c)/2., n"
   ]
  },
  {
   "cell_type": "code",
   "execution_count": 4,
   "metadata": {},
   "outputs": [
    {
     "name": "stdout",
     "output_type": "stream",
     "text": [
      "1.2414999999999783 6242\n"
     ]
    }
   ],
   "source": [
    "\n",
    "# define a function\n",
    "y = lambda x: x**3 + 2.0*x**2 - 5\n",
    "# use incremental search\n",
    "root, iterations = incremental_search (y, -5., 5., 0.001)\n",
    "\n",
    "print(root, iterations)"
   ]
  },
  {
   "cell_type": "markdown",
   "metadata": {},
   "source": [
    "## The bisection method"
   ]
  },
  {
   "cell_type": "code",
   "execution_count": 8,
   "metadata": {},
   "outputs": [],
   "source": [
    "def bisection(f, a, b, tol=0.1, maxiter=10):\n",
    "    \"\"\"\n",
    "    :param f: The function to solve\n",
    "    :param a: The x-axis value where f(a)<0\n",
    "    :param b: The x-axis value where f(b)>0\n",
    "    :param tol: The precision of the solutio\n",
    "    \"\"\"\n",
    "    c = (a+b)*0.5  # Declare c as the midpoint ab\n",
    "    n = 1  # Start with 1 iteration\n",
    "    while n <= maxiter:\n",
    "        c = (a+b)*0.5\n",
    "        if f(c) == 0 or abs(a-b)*0.5 < tol:\n",
    "            # Root is found or is very close\n",
    "            return c, n\n",
    "        n += 1\n",
    "        if f(c) < 0:\n",
    "            a= c \n",
    "        else:\n",
    "            b= c\n",
    "    return c, n"
   ]
  },
  {
   "cell_type": "code",
   "execution_count": 9,
   "metadata": {},
   "outputs": [
    {
     "name": "stdout",
     "output_type": "stream",
     "text": [
      "1.241903305053711 20\n"
     ]
    }
   ],
   "source": [
    "y = lambda x: x**3 + 2*x**2 - 5\n",
    "root, iterations = bisection(y, -5, 5, 0.00001, 100)\n",
    "print(root, iterations)"
   ]
  },
  {
   "cell_type": "markdown",
   "metadata": {},
   "source": [
    "## Newton's method\n",
    "\n",
    "$$ x_1 = x- \\frac{f(x)}{f'(x)} $$"
   ]
  },
  {
   "cell_type": "code",
   "execution_count": 10,
   "metadata": {},
   "outputs": [],
   "source": [
    "def newton(f, df, x, tol=0.001, maxiter=100):\n",
    "    \"\"\"\n",
    "    :param f: The function to solve\n",
    "    :param df: The derivative function of f\n",
    "    :param x: Initial guess value of x\n",
    "    :param tol: The precision of the solution\n",
    "    :param maxiter: Maximum number of iterations\n",
    "    :return: The x-axis value of the root, number of iterations used\n",
    "    \"\"\" \n",
    "    n= 1\n",
    "    while n <= maxiter:\n",
    "        x1 = x - f(x)/df(x)\n",
    "        if abs(x1 - x) < tol:  # Root is very close\n",
    "            return x1, n\n",
    "        else:\n",
    "            x = x1 \n",
    "            n += 1\n",
    "        return None, n\n"
   ]
  },
  {
   "cell_type": "markdown",
   "metadata": {},
   "source": [
    "## The secant method\n",
    "The secant method uses secant lines to find the root. \n",
    "\n",
    "Find $a$ and $b$ such that,\n",
    "$$ y = \\frac{f(b)-f(a)}{b-a}(c-b)+f(b) = 0$$\n",
    "the solution is:\n",
    "$$ c = b-f(b)\\frac{b-a}{f(b)-f(a)}$$\n",
    "\n",
    "The secant method performs with fewer iterations compared to the bisection method, but with more than Newton's method.\n"
   ]
  },
  {
   "cell_type": "code",
   "execution_count": 11,
   "metadata": {},
   "outputs": [],
   "source": [
    "\n",
    "def secant(f, a, b, tol=0.001, maxiter=100):\n",
    "    \"\"\"\n",
    "    :param f: The function to solve\n",
    "    :param a: Initial x-axis guess value\n",
    "    :param b: Initial x-axis guess value, where b>a\n",
    "    :param tol: The precision of the solution\n",
    "    :param maxiter: Maximum number of iterations\n",
    "    :return: The x-axis value of the root,\n",
    "                number of iterations used\n",
    "    \"\"\"\n",
    "    n= 1\n",
    "    while n <= maxiter:\n",
    "        c = b - f(b)*((b-a)/(f(b)-f(a)))\n",
    "        if abs(c-b) < tol:\n",
    "            return c, n\n",
    "        a= b\n",
    "        b= c\n",
    "        n += 1\n",
    "    return None, n"
   ]
  },
  {
   "cell_type": "markdown",
   "metadata": {},
   "source": [
    "## SciPy implementations\n",
    "Some root-finding functions that can be found in the `scipy.optimize` modules are `bisect`, `newton`, `brentq`, and `ridder`"
   ]
  },
  {
   "cell_type": "code",
   "execution_count": 13,
   "metadata": {},
   "outputs": [
    {
     "name": "stdout",
     "output_type": "stream",
     "text": [
      "Bisection method: 1.241903305053711\n",
      "Newton's method: 1.2418965630344798\n",
      "Secant method: 1.2418965630344803\n",
      "Brent's method: 1.241896563034559\n"
     ]
    }
   ],
   "source": [
    "\n",
    "\"\"\"\n",
    "Documentation at\n",
    "http://docs.scipy.org/doc/scipy/reference/optimize.html\n",
    "\"\"\"\n",
    "import scipy.optimize as optimize\n",
    "y = lambda x: x**3 + 2.*x**2 - 5.\n",
    "dy = lambda x: 3.*x**2 + 4.*x\n",
    "# Call method: bisect(f, a, b[, args, xtol, rtol, maxiter, ...])\n",
    "print(\"Bisection method: %s\" % optimize.bisect(y, -5., 5., xtol=0.00001)) \n",
    "\n",
    "# Call method: newton(func, x0[, fprime, args, tol, ...])\n",
    "print(\"Newton's method: %s\" % optimize.newton(y, 5., fprime=dy)) \n",
    "\n",
    "# When fprime=None, then the secant method is used.\n",
    "print(\"Secant method: %s\" % optimize.newton(y, 5.)) \n",
    "\n",
    "# Call method: brentq(f, a, b[, args, xtol, rtol, maxiter, ...])\n",
    "print(\"Brent's method: %s\" % optimize.brentq(y, -5., 5.)) "
   ]
  },
  {
   "cell_type": "markdown",
   "metadata": {},
   "source": [
    "## General nonlinear solvers\n",
    "The scipy.optimize module also contains multidimensional general solvers:\n",
    "\n",
    "`root(fun, x0[, args, method, jac, tol, ...])`: This finds a root of a vector function\n",
    "\n",
    "`fsolve(func, x0[, args, fprime, ...])`: This finds the roots of a function"
   ]
  }
 ],
 "metadata": {
  "kernelspec": {
   "display_name": "Python 3.9.12 ('pp-proj2')",
   "language": "python",
   "name": "python3"
  },
  "language_info": {
   "codemirror_mode": {
    "name": "ipython",
    "version": 3
   },
   "file_extension": ".py",
   "mimetype": "text/x-python",
   "name": "python",
   "nbconvert_exporter": "python",
   "pygments_lexer": "ipython3",
   "version": "3.9.12"
  },
  "orig_nbformat": 4,
  "vscode": {
   "interpreter": {
    "hash": "d099ff211019ac4757d95af8507bcf5d3e9b9b1fda18fda767bc3f89682c3e60"
   }
  }
 },
 "nbformat": 4,
 "nbformat_minor": 2
}
