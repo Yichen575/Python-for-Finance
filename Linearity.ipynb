{
 "cells": [
  {
   "cell_type": "markdown",
   "metadata": {},
   "source": [
    "# Linearity in Finance\n",
    "\n",
    "> To-do list:\n",
    "* Examining the CAPM model with the efficient frontier and capital market line\n",
    "* Solving for the security market line using regression\n",
    "* Examining the APT model and performing a multivariate linear regression\n",
    "* Understanding linear optimization in portfolio allocation\n",
    "* Linear optimization using the PuLP package\n",
    "* Understanding the outcomes of linear programming\n",
    "* Introduction to integer programming\n",
    "* Implementing a linear integer programming model with binary conditions\n",
    "* Solving systems of linear equations with equalities using matrix linear algebra\n",
    "* Solving systems of linear equations directly with the LU, Cholesky, and QR decomposition\n",
    "* Solving systems of linear equations indirectly with the Jacobi and Gauss-Seidel method"
   ]
  },
  {
   "cell_type": "markdown",
   "metadata": {},
   "source": [
    "## CAPM model\n",
    "\n",
    "$$ R_i = R_f+\\beta_i(R_{mkt} - R_f) $$\n",
    "\n",
    "The `scipy.stats.linregress` function returns the slope of the regression line, the intercept of the regression line, the correlation coefficient, the p-value for a hypothesis test with null hypothesis of a zero slope, and the standard error of the estimate"
   ]
  },
  {
   "cell_type": "markdown",
   "metadata": {},
   "source": [
    "| Time period | Stock returns | Market returns |\n",
    "| ----------- | ----------- | ----------- |\n",
    "| 1 | 0.065 | 0.055 |\n",
    "|2 |0.0265|-0.09\n",
    "|3|-0.0593|-0.041\n",
    "|4|-0.001|0.045\n",
    "|5|0.0346|0.022\n",
    "\n",
    "\n",
    "\n",
    "\n"
   ]
  },
  {
   "cell_type": "code",
   "execution_count": 3,
   "metadata": {},
   "outputs": [
    {
     "name": "stdout",
     "output_type": "stream",
     "text": [
      "0.5077431878770808 -0.008481900352462384\n"
     ]
    }
   ],
   "source": [
    "\"\"\" Linear regression with SciPy \"\"\"\n",
    "from scipy import stats\n",
    "stock_returns = [0.065, 0.0265, -0.0593, -0.001, 0.0346]\n",
    "mkt_returns = [0.055, -0.09, -0.041, 0.045, 0.022]\n",
    "beta, alpha, r_value, p_value, std_err = stats.linregress(stock_returns, mkt_returns)\n",
    "\n",
    "print(beta, alpha)"
   ]
  },
  {
   "cell_type": "markdown",
   "metadata": {},
   "source": [
    "* The equation describing the SML can be written as:\n",
    "$$ E(R_i)=R_f +β_i [E(R_M)−R_f] $$"
   ]
  },
  {
   "cell_type": "markdown",
   "metadata": {},
   "source": [
    "## The Arbitrage Pricing Theory (APT) model\n",
    "\n",
    "$$ E[R_i]=α_i+β_{i,1}F_1+β_{i,2}F_2+...+β_{i,j}F_j $$"
   ]
  },
  {
   "cell_type": "code",
   "execution_count": null,
   "metadata": {},
   "outputs": [],
   "source": [
    "\"\"\" Least squares regression with statsmodels \"\"\"\n",
    "import numpy as np\n",
    "import statsmodels.api as sm\n",
    "# Generate some sample data\n",
    "num_periods = 9\n",
    "all_values = np.array([np.random.random(8)\n",
    "                        for i in range(num_periods)])\n",
    "# Filter the data\n",
    "y_values = all_values[:, 0]  # First column values as Y\n",
    "x_values = all_values[:, 1:]  # All other values as X\n",
    "x_values = sm.add_constant(x_values)  # Include the intercept\n",
    "results = sm.OLS(y_values, x_values).fit()  # Regress and fit the model"
   ]
  },
  {
   "cell_type": "markdown",
   "metadata": {},
   "source": []
  },
  {
   "cell_type": "code",
   "execution_count": null,
   "metadata": {},
   "outputs": [],
   "source": []
  }
 ],
 "metadata": {
  "kernelspec": {
   "display_name": "Python 3.9.12 ('base')",
   "language": "python",
   "name": "python3"
  },
  "language_info": {
   "codemirror_mode": {
    "name": "ipython",
    "version": 3
   },
   "file_extension": ".py",
   "mimetype": "text/x-python",
   "name": "python",
   "nbconvert_exporter": "python",
   "pygments_lexer": "ipython3",
   "version": "3.9.12"
  },
  "orig_nbformat": 4,
  "vscode": {
   "interpreter": {
    "hash": "f695691c7675195da2229e392149ef068beb920cff0b2fc3ea04696403466e06"
   }
  }
 },
 "nbformat": 4,
 "nbformat_minor": 2
}
