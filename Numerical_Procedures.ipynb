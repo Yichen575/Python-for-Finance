{
 "cells": [
  {
   "cell_type": "markdown",
   "metadata": {},
   "source": [
    "# Numerical Procedures\n",
    "\n",
    "> In this chapter, we will cover the following topics:\n",
    "\n",
    "* Pricing European and American options using a binomial tree\n",
    "* Using a Cox-Ross-Rubinstein (CRR) binomial tree\n",
    "* Pricing options using a Leisen-Reimer (LR) tree\n",
    "* Pricing options using a trinomial tree\n",
    "* Pricing options using a binomial and trinomial lattice\n",
    "* Deriving Greeks from a tree for free\n",
    "* Finite differences with the explicit, implicit, and Crank-Nicolson method\n",
    "* Implied volatility modelling using a LR tree and the bisection method\n",
    "\n",
    "## Writing the StockOption class\n",
    "\n",
    "Firstly, let's create a `StockOption class` to store and calculate the common attributes of the stock option in this chapter. The code is stored in a file named `StockOption.py`\n",
    "\n",
    "## BinomialEuropeanOption class\n",
    "The Python implementation of the binomial option pricing model of an European option is given as the `BinomialEuropeanOption` class, which inherits the common attributes of the option from the `StockOption` class.\n",
    "The `price` method of the `BinomialEuropeanOption` class is a public method that is the entry point for all the instances of this class. It calls the `_setup_parameters_` method to set up the required model parameters, and then calls the `_initialize_ stock_price_tree_` method to simulate the expected values of the stock prices for the period up till T.\n",
    "Finally, the `__begin_tree_traversal__` private method is called to initialize the payoff array and store the discounted payoff values, as it traverses the binomial tree back to the present time. The payoff tree nodes are returned as a `NumPy` array object, where the present value of the European option is found at the initial node.\n"
   ]
  },
  {
   "cell_type": "code",
   "execution_count": null,
   "metadata": {},
   "outputs": [],
   "source": []
  }
 ],
 "metadata": {
  "kernelspec": {
   "display_name": "Python 3.9.6 64-bit",
   "language": "python",
   "name": "python3"
  },
  "language_info": {
   "name": "python",
   "version": "3.9.6"
  },
  "orig_nbformat": 4,
  "vscode": {
   "interpreter": {
    "hash": "31f2aee4e71d21fbe5cf8b01ff0e069b9275f58929596ceb00d14d90e3e16cd6"
   }
  }
 },
 "nbformat": 4,
 "nbformat_minor": 2
}
