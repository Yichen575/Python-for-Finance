{
 "cells": [
  {
   "cell_type": "markdown",
   "metadata": {},
   "source": [
    "# Linearity in Finance\n",
    "\n",
    "> To-do list:\n",
    "* Examining the CAPM model with the efficient frontier and capital market line\n",
    "* Solving for the security market line using regression\n",
    "* Examining the APT model and performing a multivariate linear regression\n",
    "* Understanding linear optimization in portfolio allocation\n",
    "* Linear optimization using the PuLP package\n",
    "* Understanding the outcomes of linear programming\n",
    "* Introduction to integer programming\n",
    "* Implementing a linear integer programming model with binary conditions\n",
    "* Solving systems of linear equations with equalities using matrix linear algebra\n",
    "* Solving systems of linear equations directly with the LU, Cholesky, and QR decomposition\n",
    "* Solving systems of linear equations indirectly with the Jacobi and Gauss-Seidel method"
   ]
  },
  {
   "cell_type": "markdown",
   "metadata": {},
   "source": [
    "## CAPM model\n",
    "\n",
    "$$ R_i = R_f+\\beta_i(R_{mkt} - R_f) $$\n",
    "\n",
    "The `scipy.stats.linregress` function returns the slope of the regression line, the intercept of the regression line, the correlation coefficient, the p-value for a hypothesis test with null hypothesis of a zero slope, and the standard error of the estimate"
   ]
  },
  {
   "cell_type": "markdown",
   "metadata": {},
   "source": [
    "| Time period | Stock returns | Market returns |\n",
    "| ----------- | ----------- | ----------- |\n",
    "| 1 | 0.065 | 0.055 |\n",
    "|2 |0.0265|-0.09\n",
    "|3|-0.0593|-0.041\n",
    "|4|-0.001|0.045\n",
    "|5|0.0346|0.022\n",
    "\n",
    "\n",
    "\n",
    "\n"
   ]
  },
  {
   "cell_type": "code",
   "execution_count": 1,
   "metadata": {},
   "outputs": [
    {
     "name": "stdout",
     "output_type": "stream",
     "text": [
      "0.5077431878770808 -0.008481900352462384\n"
     ]
    }
   ],
   "source": [
    "\"\"\" Linear regression with SciPy \"\"\"\n",
    "from scipy import stats\n",
    "stock_returns = [0.065, 0.0265, -0.0593, -0.001, 0.0346]\n",
    "mkt_returns = [0.055, -0.09, -0.041, 0.045, 0.022]\n",
    "beta, alpha, r_value, p_value, std_err = stats.linregress(stock_returns, mkt_returns)\n",
    "\n",
    "print(beta, alpha)"
   ]
  },
  {
   "cell_type": "markdown",
   "metadata": {},
   "source": [
    "* The equation describing the SML can be written as:\n",
    "$$ E(R_i)=R_f +β_i [E(R_M)−R_f] $$"
   ]
  },
  {
   "cell_type": "markdown",
   "metadata": {},
   "source": [
    "## The Arbitrage Pricing Theory (APT) model\n",
    "\n",
    "$$ E[R_i]=α_i+β_{i,1}F_1+β_{i,2}F_2+...+β_{i,j}F_j $$"
   ]
  },
  {
   "cell_type": "code",
   "execution_count": 2,
   "metadata": {},
   "outputs": [],
   "source": [
    "\"\"\" Least squares regression with statsmodels \"\"\"\n",
    "import numpy as np\n",
    "import statsmodels.api as sm\n",
    "# Generate some sample data\n",
    "num_periods = 9\n",
    "all_values = np.array([np.random.random(8)\n",
    "                        for i in range(num_periods)])\n",
    "# Filter the data\n",
    "y_values = all_values[:, 0]  # First column values as Y\n",
    "x_values = all_values[:, 1:]  # All other values as X\n",
    "x_values = sm.add_constant(x_values)  # Include the intercept\n",
    "results = sm.OLS(y_values, x_values).fit()  # Regress and fit the model"
   ]
  },
  {
   "cell_type": "code",
   "execution_count": 3,
   "metadata": {},
   "outputs": [
    {
     "name": "stderr",
     "output_type": "stream",
     "text": [
      "/Users/shenyichen/opt/anaconda3/lib/python3.9/site-packages/scipy/stats/stats.py:1541: UserWarning: kurtosistest only valid for n>=20 ... continuing anyway, n=9\n",
      "  warnings.warn(\"kurtosistest only valid for n>=20 ... continuing \"\n"
     ]
    },
    {
     "data": {
      "text/html": [
       "<table class=\"simpletable\">\n",
       "<caption>OLS Regression Results</caption>\n",
       "<tr>\n",
       "  <th>Dep. Variable:</th>            <td>y</td>        <th>  R-squared:         </th> <td>   0.946</td>\n",
       "</tr>\n",
       "<tr>\n",
       "  <th>Model:</th>                   <td>OLS</td>       <th>  Adj. R-squared:    </th> <td>   0.564</td>\n",
       "</tr>\n",
       "<tr>\n",
       "  <th>Method:</th>             <td>Least Squares</td>  <th>  F-statistic:       </th> <td>   2.481</td>\n",
       "</tr>\n",
       "<tr>\n",
       "  <th>Date:</th>             <td>Tue, 06 Jun 2023</td> <th>  Prob (F-statistic):</th>  <td> 0.454</td> \n",
       "</tr>\n",
       "<tr>\n",
       "  <th>Time:</th>                 <td>16:05:54</td>     <th>  Log-Likelihood:    </th> <td>  13.909</td>\n",
       "</tr>\n",
       "<tr>\n",
       "  <th>No. Observations:</th>      <td>     9</td>      <th>  AIC:               </th> <td>  -11.82</td>\n",
       "</tr>\n",
       "<tr>\n",
       "  <th>Df Residuals:</th>          <td>     1</td>      <th>  BIC:               </th> <td>  -10.24</td>\n",
       "</tr>\n",
       "<tr>\n",
       "  <th>Df Model:</th>              <td>     7</td>      <th>                     </th>     <td> </td>   \n",
       "</tr>\n",
       "<tr>\n",
       "  <th>Covariance Type:</th>      <td>nonrobust</td>    <th>                     </th>     <td> </td>   \n",
       "</tr>\n",
       "</table>\n",
       "<table class=\"simpletable\">\n",
       "<tr>\n",
       "    <td></td>       <th>coef</th>     <th>std err</th>      <th>t</th>      <th>P>|t|</th>  <th>[0.025</th>    <th>0.975]</th>  \n",
       "</tr>\n",
       "<tr>\n",
       "  <th>const</th> <td>   -0.1972</td> <td>    0.358</td> <td>   -0.551</td> <td> 0.679</td> <td>   -4.742</td> <td>    4.348</td>\n",
       "</tr>\n",
       "<tr>\n",
       "  <th>x1</th>    <td>   -0.0243</td> <td>    0.421</td> <td>   -0.058</td> <td> 0.963</td> <td>   -5.376</td> <td>    5.327</td>\n",
       "</tr>\n",
       "<tr>\n",
       "  <th>x2</th>    <td>    0.5093</td> <td>    0.276</td> <td>    1.844</td> <td> 0.316</td> <td>   -3.000</td> <td>    4.019</td>\n",
       "</tr>\n",
       "<tr>\n",
       "  <th>x3</th>    <td>    0.6797</td> <td>    0.310</td> <td>    2.193</td> <td> 0.272</td> <td>   -3.258</td> <td>    4.617</td>\n",
       "</tr>\n",
       "<tr>\n",
       "  <th>x4</th>    <td>    0.1343</td> <td>    0.351</td> <td>    0.383</td> <td> 0.767</td> <td>   -4.320</td> <td>    4.589</td>\n",
       "</tr>\n",
       "<tr>\n",
       "  <th>x5</th>    <td>   -0.3118</td> <td>    0.579</td> <td>   -0.538</td> <td> 0.686</td> <td>   -7.669</td> <td>    7.046</td>\n",
       "</tr>\n",
       "<tr>\n",
       "  <th>x6</th>    <td>    0.9525</td> <td>    0.801</td> <td>    1.189</td> <td> 0.445</td> <td>   -9.229</td> <td>   11.134</td>\n",
       "</tr>\n",
       "<tr>\n",
       "  <th>x7</th>    <td>   -0.7214</td> <td>    0.274</td> <td>   -2.636</td> <td> 0.231</td> <td>   -4.199</td> <td>    2.756</td>\n",
       "</tr>\n",
       "</table>\n",
       "<table class=\"simpletable\">\n",
       "<tr>\n",
       "  <th>Omnibus:</th>       <td> 1.734</td> <th>  Durbin-Watson:     </th> <td>   2.169</td>\n",
       "</tr>\n",
       "<tr>\n",
       "  <th>Prob(Omnibus):</th> <td> 0.420</td> <th>  Jarque-Bera (JB):  </th> <td>   0.813</td>\n",
       "</tr>\n",
       "<tr>\n",
       "  <th>Skew:</th>          <td> 0.262</td> <th>  Prob(JB):          </th> <td>   0.666</td>\n",
       "</tr>\n",
       "<tr>\n",
       "  <th>Kurtosis:</th>      <td> 1.623</td> <th>  Cond. No.          </th> <td>    37.1</td>\n",
       "</tr>\n",
       "</table><br/><br/>Notes:<br/>[1] Standard Errors assume that the covariance matrix of the errors is correctly specified."
      ],
      "text/plain": [
       "<class 'statsmodels.iolib.summary.Summary'>\n",
       "\"\"\"\n",
       "                            OLS Regression Results                            \n",
       "==============================================================================\n",
       "Dep. Variable:                      y   R-squared:                       0.946\n",
       "Model:                            OLS   Adj. R-squared:                  0.564\n",
       "Method:                 Least Squares   F-statistic:                     2.481\n",
       "Date:                Tue, 06 Jun 2023   Prob (F-statistic):              0.454\n",
       "Time:                        16:05:54   Log-Likelihood:                 13.909\n",
       "No. Observations:                   9   AIC:                            -11.82\n",
       "Df Residuals:                       1   BIC:                            -10.24\n",
       "Df Model:                           7                                         \n",
       "Covariance Type:            nonrobust                                         \n",
       "==============================================================================\n",
       "                 coef    std err          t      P>|t|      [0.025      0.975]\n",
       "------------------------------------------------------------------------------\n",
       "const         -0.1972      0.358     -0.551      0.679      -4.742       4.348\n",
       "x1            -0.0243      0.421     -0.058      0.963      -5.376       5.327\n",
       "x2             0.5093      0.276      1.844      0.316      -3.000       4.019\n",
       "x3             0.6797      0.310      2.193      0.272      -3.258       4.617\n",
       "x4             0.1343      0.351      0.383      0.767      -4.320       4.589\n",
       "x5            -0.3118      0.579     -0.538      0.686      -7.669       7.046\n",
       "x6             0.9525      0.801      1.189      0.445      -9.229      11.134\n",
       "x7            -0.7214      0.274     -2.636      0.231      -4.199       2.756\n",
       "==============================================================================\n",
       "Omnibus:                        1.734   Durbin-Watson:                   2.169\n",
       "Prob(Omnibus):                  0.420   Jarque-Bera (JB):                0.813\n",
       "Skew:                           0.262   Prob(JB):                        0.666\n",
       "Kurtosis:                       1.623   Cond. No.                         37.1\n",
       "==============================================================================\n",
       "\n",
       "Notes:\n",
       "[1] Standard Errors assume that the covariance matrix of the errors is correctly specified.\n",
       "\"\"\""
      ]
     },
     "execution_count": 3,
     "metadata": {},
     "output_type": "execute_result"
    }
   ],
   "source": [
    "results.summary()\n"
   ]
  }
 ],
 "metadata": {
  "kernelspec": {
   "display_name": "Python 3.9.12 ('base')",
   "language": "python",
   "name": "python3"
  },
  "language_info": {
   "codemirror_mode": {
    "name": "ipython",
    "version": 3
   },
   "file_extension": ".py",
   "mimetype": "text/x-python",
   "name": "python",
   "nbconvert_exporter": "python",
   "pygments_lexer": "ipython3",
   "version": "3.9.12"
  },
  "orig_nbformat": 4,
  "vscode": {
   "interpreter": {
    "hash": "f695691c7675195da2229e392149ef068beb920cff0b2fc3ea04696403466e06"
   }
  }
 },
 "nbformat": 4,
 "nbformat_minor": 2
}
